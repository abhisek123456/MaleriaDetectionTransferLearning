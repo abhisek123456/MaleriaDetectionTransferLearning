{
  "nbformat": 4,
  "nbformat_minor": 0,
  "metadata": {
    "colab": {
      "name": "Transfer learning .ipynb",
      "provenance": [],
      "collapsed_sections": []
    },
    "kernelspec": {
      "name": "python3",
      "display_name": "Python 3"
    },
    "accelerator": "GPU"
  },
  "cells": [
    {
      "cell_type": "code",
      "metadata": {
        "id": "_s23g1fVKJ_Y"
      },
      "source": [
        "from tensorflow.keras.layers import Dense,Flatten,Conv2D,Lambda\n",
        "from tensorflow.keras.models import Model,Sequential\n",
        "from tensorflow.keras.preprocessing.image import ImageDataGenerator,load_img\n",
        "from tensorflow.keras.applications import VGG16,VGG19\n",
        "from tensorflow.keras.applications.resnet50 import preprocess_input\n",
        "from glob import glob\n",
        "import numpy as np\n",
        "import matplotlib.pyplot as plt"
      ],
      "execution_count": 1,
      "outputs": []
    },
    {
      "cell_type": "code",
      "metadata": {
        "colab": {
          "base_uri": "https://localhost:8080/"
        },
        "id": "2lPajls5KhYA",
        "outputId": "bc58e0ca-69b2-468c-999b-fffde2ace92c"
      },
      "source": [
        "from google.colab import drive\n",
        "drive.mount('/content/drive')"
      ],
      "execution_count": 2,
      "outputs": [
        {
          "output_type": "stream",
          "text": [
            "Mounted at /content/drive\n"
          ],
          "name": "stdout"
        }
      ]
    },
    {
      "cell_type": "code",
      "metadata": {
        "id": "rgi6CxOnLU1j"
      },
      "source": [
        "IMAGE_SIZE=[224,224]\n",
        "\n",
        "train_path=(\"/content/drive/MyDrive/Maleria_Dataset/Train\")\n",
        "valid_path=(\"/content/drive/MyDrive/Maleria_Dataset/Test\")"
      ],
      "execution_count": 7,
      "outputs": []
    },
    {
      "cell_type": "code",
      "metadata": {
        "id": "K6sP7nylPCUZ",
        "colab": {
          "base_uri": "https://localhost:8080/"
        },
        "outputId": "cdcb433b-ea36-4484-ed74-9ef99203096f"
      },
      "source": [
        "vgg19=VGG19(input_shape=IMAGE_SIZE+[3],weights=\"imagenet\",include_top=False)"
      ],
      "execution_count": 4,
      "outputs": [
        {
          "output_type": "stream",
          "text": [
            "Downloading data from https://storage.googleapis.com/tensorflow/keras-applications/vgg19/vgg19_weights_tf_dim_ordering_tf_kernels_notop.h5\n",
            "80142336/80134624 [==============================] - 1s 0us/step\n"
          ],
          "name": "stdout"
        }
      ]
    },
    {
      "cell_type": "code",
      "metadata": {
        "colab": {
          "base_uri": "https://localhost:8080/"
        },
        "id": "3GjT-stlPiGF",
        "outputId": "6019252b-a3db-45d9-a9a4-4561e0192aa4"
      },
      "source": [
        "vgg19.summary()"
      ],
      "execution_count": 8,
      "outputs": [
        {
          "output_type": "stream",
          "text": [
            "Model: \"vgg19\"\n",
            "_________________________________________________________________\n",
            "Layer (type)                 Output Shape              Param #   \n",
            "=================================================================\n",
            "input_1 (InputLayer)         [(None, 224, 224, 3)]     0         \n",
            "_________________________________________________________________\n",
            "block1_conv1 (Conv2D)        (None, 224, 224, 64)      1792      \n",
            "_________________________________________________________________\n",
            "block1_conv2 (Conv2D)        (None, 224, 224, 64)      36928     \n",
            "_________________________________________________________________\n",
            "block1_pool (MaxPooling2D)   (None, 112, 112, 64)      0         \n",
            "_________________________________________________________________\n",
            "block2_conv1 (Conv2D)        (None, 112, 112, 128)     73856     \n",
            "_________________________________________________________________\n",
            "block2_conv2 (Conv2D)        (None, 112, 112, 128)     147584    \n",
            "_________________________________________________________________\n",
            "block2_pool (MaxPooling2D)   (None, 56, 56, 128)       0         \n",
            "_________________________________________________________________\n",
            "block3_conv1 (Conv2D)        (None, 56, 56, 256)       295168    \n",
            "_________________________________________________________________\n",
            "block3_conv2 (Conv2D)        (None, 56, 56, 256)       590080    \n",
            "_________________________________________________________________\n",
            "block3_conv3 (Conv2D)        (None, 56, 56, 256)       590080    \n",
            "_________________________________________________________________\n",
            "block3_conv4 (Conv2D)        (None, 56, 56, 256)       590080    \n",
            "_________________________________________________________________\n",
            "block3_pool (MaxPooling2D)   (None, 28, 28, 256)       0         \n",
            "_________________________________________________________________\n",
            "block4_conv1 (Conv2D)        (None, 28, 28, 512)       1180160   \n",
            "_________________________________________________________________\n",
            "block4_conv2 (Conv2D)        (None, 28, 28, 512)       2359808   \n",
            "_________________________________________________________________\n",
            "block4_conv3 (Conv2D)        (None, 28, 28, 512)       2359808   \n",
            "_________________________________________________________________\n",
            "block4_conv4 (Conv2D)        (None, 28, 28, 512)       2359808   \n",
            "_________________________________________________________________\n",
            "block4_pool (MaxPooling2D)   (None, 14, 14, 512)       0         \n",
            "_________________________________________________________________\n",
            "block5_conv1 (Conv2D)        (None, 14, 14, 512)       2359808   \n",
            "_________________________________________________________________\n",
            "block5_conv2 (Conv2D)        (None, 14, 14, 512)       2359808   \n",
            "_________________________________________________________________\n",
            "block5_conv3 (Conv2D)        (None, 14, 14, 512)       2359808   \n",
            "_________________________________________________________________\n",
            "block5_conv4 (Conv2D)        (None, 14, 14, 512)       2359808   \n",
            "_________________________________________________________________\n",
            "block5_pool (MaxPooling2D)   (None, 7, 7, 512)         0         \n",
            "=================================================================\n",
            "Total params: 20,024,384\n",
            "Trainable params: 0\n",
            "Non-trainable params: 20,024,384\n",
            "_________________________________________________________________\n"
          ],
          "name": "stdout"
        }
      ]
    },
    {
      "cell_type": "code",
      "metadata": {
        "id": "y3iB1pbbPn4c"
      },
      "source": [
        "for layer in vgg19.layers:\n",
        "  layer.trainable=False"
      ],
      "execution_count": 9,
      "outputs": []
    },
    {
      "cell_type": "code",
      "metadata": {
        "colab": {
          "base_uri": "https://localhost:8080/"
        },
        "id": "ZxGBkNHuPy3n",
        "outputId": "5652f211-fdd7-4fb6-e825-758edc8622a4"
      },
      "source": [
        "folder=glob(\"/content/drive/MyDrive/Maleria_Dataset/Train/*\")\n",
        "len(folder)"
      ],
      "execution_count": 10,
      "outputs": [
        {
          "output_type": "execute_result",
          "data": {
            "text/plain": [
              "2"
            ]
          },
          "metadata": {
            "tags": []
          },
          "execution_count": 10
        }
      ]
    },
    {
      "cell_type": "code",
      "metadata": {
        "id": "HiVgcyqoQkvh"
      },
      "source": [
        "x=Flatten()(vgg19.output)\n",
        "prediction=Dense(len(folder),activation=\"softmax\")(x)\n",
        "model=Model(inputs=vgg19.input,outputs=prediction)"
      ],
      "execution_count": 11,
      "outputs": []
    },
    {
      "cell_type": "code",
      "metadata": {
        "colab": {
          "base_uri": "https://localhost:8080/"
        },
        "id": "m-qTcTBCSIG8",
        "outputId": "d8f96e28-5ab2-467a-e8a0-31d6e25c5753"
      },
      "source": [
        "model.summary()"
      ],
      "execution_count": 12,
      "outputs": [
        {
          "output_type": "stream",
          "text": [
            "Model: \"model\"\n",
            "_________________________________________________________________\n",
            "Layer (type)                 Output Shape              Param #   \n",
            "=================================================================\n",
            "input_1 (InputLayer)         [(None, 224, 224, 3)]     0         \n",
            "_________________________________________________________________\n",
            "block1_conv1 (Conv2D)        (None, 224, 224, 64)      1792      \n",
            "_________________________________________________________________\n",
            "block1_conv2 (Conv2D)        (None, 224, 224, 64)      36928     \n",
            "_________________________________________________________________\n",
            "block1_pool (MaxPooling2D)   (None, 112, 112, 64)      0         \n",
            "_________________________________________________________________\n",
            "block2_conv1 (Conv2D)        (None, 112, 112, 128)     73856     \n",
            "_________________________________________________________________\n",
            "block2_conv2 (Conv2D)        (None, 112, 112, 128)     147584    \n",
            "_________________________________________________________________\n",
            "block2_pool (MaxPooling2D)   (None, 56, 56, 128)       0         \n",
            "_________________________________________________________________\n",
            "block3_conv1 (Conv2D)        (None, 56, 56, 256)       295168    \n",
            "_________________________________________________________________\n",
            "block3_conv2 (Conv2D)        (None, 56, 56, 256)       590080    \n",
            "_________________________________________________________________\n",
            "block3_conv3 (Conv2D)        (None, 56, 56, 256)       590080    \n",
            "_________________________________________________________________\n",
            "block3_conv4 (Conv2D)        (None, 56, 56, 256)       590080    \n",
            "_________________________________________________________________\n",
            "block3_pool (MaxPooling2D)   (None, 28, 28, 256)       0         \n",
            "_________________________________________________________________\n",
            "block4_conv1 (Conv2D)        (None, 28, 28, 512)       1180160   \n",
            "_________________________________________________________________\n",
            "block4_conv2 (Conv2D)        (None, 28, 28, 512)       2359808   \n",
            "_________________________________________________________________\n",
            "block4_conv3 (Conv2D)        (None, 28, 28, 512)       2359808   \n",
            "_________________________________________________________________\n",
            "block4_conv4 (Conv2D)        (None, 28, 28, 512)       2359808   \n",
            "_________________________________________________________________\n",
            "block4_pool (MaxPooling2D)   (None, 14, 14, 512)       0         \n",
            "_________________________________________________________________\n",
            "block5_conv1 (Conv2D)        (None, 14, 14, 512)       2359808   \n",
            "_________________________________________________________________\n",
            "block5_conv2 (Conv2D)        (None, 14, 14, 512)       2359808   \n",
            "_________________________________________________________________\n",
            "block5_conv3 (Conv2D)        (None, 14, 14, 512)       2359808   \n",
            "_________________________________________________________________\n",
            "block5_conv4 (Conv2D)        (None, 14, 14, 512)       2359808   \n",
            "_________________________________________________________________\n",
            "block5_pool (MaxPooling2D)   (None, 7, 7, 512)         0         \n",
            "_________________________________________________________________\n",
            "flatten (Flatten)            (None, 25088)             0         \n",
            "_________________________________________________________________\n",
            "dense (Dense)                (None, 2)                 50178     \n",
            "=================================================================\n",
            "Total params: 20,074,562\n",
            "Trainable params: 50,178\n",
            "Non-trainable params: 20,024,384\n",
            "_________________________________________________________________\n"
          ],
          "name": "stdout"
        }
      ]
    },
    {
      "cell_type": "code",
      "metadata": {
        "id": "CMe0QKrgSKtS"
      },
      "source": [
        "train_datagen=ImageDataGenerator(rescale=1./255,shear_range=.2,\n",
        "                                 rotation_range=.2,horizontal_flip=True)\n",
        "test_datagen=ImageDataGenerator(rescale=1./255)"
      ],
      "execution_count": 13,
      "outputs": []
    },
    {
      "cell_type": "code",
      "metadata": {
        "colab": {
          "base_uri": "https://localhost:8080/"
        },
        "id": "qYMv8E_6TTeu",
        "outputId": "be230caf-a1bd-4634-e4e4-15dddcf53c42"
      },
      "source": [
        "training_set=train_datagen.flow_from_directory(\"/content/drive/MyDrive/Maleria_Dataset/Train\",batch_size=32,target_size=(224,224),\n",
        "                                               class_mode=\"categorical\")\n",
        "test_set=test_datagen.flow_from_directory(\"/content/drive/MyDrive/Maleria_Dataset/Test\",batch_size=32,class_mode=\"categorical\",\n",
        "                                          target_size=(224,224))"
      ],
      "execution_count": 14,
      "outputs": [
        {
          "output_type": "stream",
          "text": [
            "Found 416 images belonging to 2 classes.\n",
            "Found 134 images belonging to 2 classes.\n"
          ],
          "name": "stdout"
        }
      ]
    },
    {
      "cell_type": "code",
      "metadata": {
        "id": "YsMaDVQfULZg"
      },
      "source": [
        "model.compile(optimizer=\"adam\",loss=\"categorical_crossentropy\",metrics=[\"accuracy\"])"
      ],
      "execution_count": 15,
      "outputs": []
    },
    {
      "cell_type": "code",
      "metadata": {
        "colab": {
          "base_uri": "https://localhost:8080/"
        },
        "id": "NS56XSljUywn",
        "outputId": "c0c38211-0583-403b-a00e-cc10ce1c1fad"
      },
      "source": [
        "transfer_vgg19=model.fit_generator(training_set,validation_data=test_set,epochs=20,\n",
        "                         steps_per_epoch=len(training_set),validation_steps=len(test_set))"
      ],
      "execution_count": 16,
      "outputs": [
        {
          "output_type": "stream",
          "text": [
            "/usr/local/lib/python3.6/dist-packages/tensorflow/python/keras/engine/training.py:1844: UserWarning: `Model.fit_generator` is deprecated and will be removed in a future version. Please use `Model.fit`, which supports generators.\n",
            "  warnings.warn('`Model.fit_generator` is deprecated and '\n"
          ],
          "name": "stderr"
        },
        {
          "output_type": "stream",
          "text": [
            "Epoch 1/20\n",
            "13/13 [==============================] - 125s 9s/step - loss: 1.6956 - accuracy: 0.5081 - val_loss: 0.8117 - val_accuracy: 0.6791\n",
            "Epoch 2/20\n",
            "13/13 [==============================] - 6s 436ms/step - loss: 0.7055 - accuracy: 0.6253 - val_loss: 0.5943 - val_accuracy: 0.6567\n",
            "Epoch 3/20\n",
            "13/13 [==============================] - 6s 438ms/step - loss: 0.3852 - accuracy: 0.8511 - val_loss: 0.5020 - val_accuracy: 0.7687\n",
            "Epoch 4/20\n",
            "13/13 [==============================] - 6s 440ms/step - loss: 0.2899 - accuracy: 0.9127 - val_loss: 0.4252 - val_accuracy: 0.7910\n",
            "Epoch 5/20\n",
            "13/13 [==============================] - 6s 436ms/step - loss: 0.2563 - accuracy: 0.9225 - val_loss: 0.4355 - val_accuracy: 0.7985\n",
            "Epoch 6/20\n",
            "13/13 [==============================] - 6s 436ms/step - loss: 0.2529 - accuracy: 0.9195 - val_loss: 0.4248 - val_accuracy: 0.7612\n",
            "Epoch 7/20\n",
            "13/13 [==============================] - 6s 436ms/step - loss: 0.2876 - accuracy: 0.8788 - val_loss: 0.4267 - val_accuracy: 0.8134\n",
            "Epoch 8/20\n",
            "13/13 [==============================] - 6s 438ms/step - loss: 0.1864 - accuracy: 0.9575 - val_loss: 0.3872 - val_accuracy: 0.8209\n",
            "Epoch 9/20\n",
            "13/13 [==============================] - 6s 434ms/step - loss: 0.1651 - accuracy: 0.9476 - val_loss: 0.4384 - val_accuracy: 0.7537\n",
            "Epoch 10/20\n",
            "13/13 [==============================] - 6s 434ms/step - loss: 0.1628 - accuracy: 0.9536 - val_loss: 0.3005 - val_accuracy: 0.8657\n",
            "Epoch 11/20\n",
            "13/13 [==============================] - 6s 433ms/step - loss: 0.1524 - accuracy: 0.9656 - val_loss: 0.4462 - val_accuracy: 0.7537\n",
            "Epoch 12/20\n",
            "13/13 [==============================] - 6s 445ms/step - loss: 0.1520 - accuracy: 0.9588 - val_loss: 0.3013 - val_accuracy: 0.8582\n",
            "Epoch 13/20\n",
            "13/13 [==============================] - 6s 441ms/step - loss: 0.1309 - accuracy: 0.9656 - val_loss: 0.3823 - val_accuracy: 0.8209\n",
            "Epoch 14/20\n",
            "13/13 [==============================] - 6s 440ms/step - loss: 0.1248 - accuracy: 0.9797 - val_loss: 0.2909 - val_accuracy: 0.8881\n",
            "Epoch 15/20\n",
            "13/13 [==============================] - 6s 436ms/step - loss: 0.1128 - accuracy: 0.9846 - val_loss: 0.3221 - val_accuracy: 0.8806\n",
            "Epoch 16/20\n",
            "13/13 [==============================] - 6s 435ms/step - loss: 0.1127 - accuracy: 0.9735 - val_loss: 0.3221 - val_accuracy: 0.8806\n",
            "Epoch 17/20\n",
            "13/13 [==============================] - 6s 436ms/step - loss: 0.1105 - accuracy: 0.9840 - val_loss: 0.3232 - val_accuracy: 0.8806\n",
            "Epoch 18/20\n",
            "13/13 [==============================] - 6s 443ms/step - loss: 0.1154 - accuracy: 0.9650 - val_loss: 0.2737 - val_accuracy: 0.9030\n",
            "Epoch 19/20\n",
            "13/13 [==============================] - 6s 437ms/step - loss: 0.0898 - accuracy: 0.9870 - val_loss: 0.2660 - val_accuracy: 0.9030\n",
            "Epoch 20/20\n",
            "13/13 [==============================] - 6s 438ms/step - loss: 0.0910 - accuracy: 0.9861 - val_loss: 0.3552 - val_accuracy: 0.8433\n"
          ],
          "name": "stdout"
        }
      ]
    },
    {
      "cell_type": "code",
      "metadata": {
        "colab": {
          "base_uri": "https://localhost:8080/",
          "height": 530
        },
        "id": "AI3-QkaCVUcQ",
        "outputId": "dfd59014-a720-400a-baa5-2e8d292b0086"
      },
      "source": [
        "# plot the loss\n",
        "plt.plot(transfer_vgg19.history['loss'], label='train loss')\n",
        "plt.plot(transfer_vgg19.history['val_loss'], label='val loss')\n",
        "plt.legend()\n",
        "plt.show()\n",
        "plt.savefig('LossVal_loss')\n",
        "\n",
        "# plot the accuracy\n",
        "plt.plot(transfer_vgg19.history['accuracy'], label='train acc')\n",
        "plt.plot(transfer_vgg19.history['val_accuracy'], label='val acc')\n",
        "plt.legend()\n",
        "plt.show()\n",
        "plt.savefig('AccVal_acc')"
      ],
      "execution_count": 17,
      "outputs": [
        {
          "output_type": "display_data",
          "data": {
            "image/png": "[encoded data removed]",
            "text/plain": [
              "<Figure size 432x288 with 1 Axes>"
            ]
          },
          "metadata": {
            "tags": [],
            "needs_background": "light"
          }
        },
        {
          "output_type": "display_data",
          "data": {
            "image/png": "[encoded data removed]",
            "text/plain": [
              "<Figure size 432x288 with 1 Axes>"
            ]
          },
          "metadata": {
            "tags": [],
            "needs_background": "light"
          }
        },
        {
          "output_type": "display_data",
          "data": {
            "text/plain": [
              "<Figure size 432x288 with 0 Axes>"
            ]
          },
          "metadata": {
            "tags": []
          }
        }
      ]
    },
    {
      "cell_type": "code",
      "metadata": {
        "id": "Pd5y2Oc7Wl6N",
        "colab": {
          "base_uri": "https://localhost:8080/"
        },
        "outputId": "0e2e21c9-5255-4afa-c18a-93d8095015f3"
      },
      "source": [
        "vgg16=VGG16(input_shape=IMAGE_SIZE+[3],include_top=False,weights=\"imagenet\")"
      ],
      "execution_count": null,
      "outputs": [
        {
          "output_type": "stream",
          "text": [
            "Downloading data from https://storage.googleapis.com/tensorflow/keras-applications/vgg16/vgg16_weights_tf_dim_ordering_tf_kernels_notop.h5\n",
            "58892288/58889256 [==============================] - 1s 0us/step\n"
          ],
          "name": "stdout"
        }
      ]
    },
    {
      "cell_type": "code",
      "metadata": {
        "colab": {
          "base_uri": "https://localhost:8080/"
        },
        "id": "dH84aZWOY44R",
        "outputId": "2d89715d-aa26-44a8-e40a-1cfae29f950a"
      },
      "source": [
        "vgg16.summary()"
      ],
      "execution_count": null,
      "outputs": [
        {
          "output_type": "stream",
          "text": [
            "Model: \"vgg16\"\n",
            "_________________________________________________________________\n",
            "Layer (type)                 Output Shape              Param #   \n",
            "=================================================================\n",
            "input_2 (InputLayer)         [(None, 224, 224, 3)]     0         \n",
            "_________________________________________________________________\n",
            "block1_conv1 (Conv2D)        (None, 224, 224, 64)      1792      \n",
            "_________________________________________________________________\n",
            "block1_conv2 (Conv2D)        (None, 224, 224, 64)      36928     \n",
            "_________________________________________________________________\n",
            "block1_pool (MaxPooling2D)   (None, 112, 112, 64)      0         \n",
            "_________________________________________________________________\n",
            "block2_conv1 (Conv2D)        (None, 112, 112, 128)     73856     \n",
            "_________________________________________________________________\n",
            "block2_conv2 (Conv2D)        (None, 112, 112, 128)     147584    \n",
            "_________________________________________________________________\n",
            "block2_pool (MaxPooling2D)   (None, 56, 56, 128)       0         \n",
            "_________________________________________________________________\n",
            "block3_conv1 (Conv2D)        (None, 56, 56, 256)       295168    \n",
            "_________________________________________________________________\n",
            "block3_conv2 (Conv2D)        (None, 56, 56, 256)       590080    \n",
            "_________________________________________________________________\n",
            "block3_conv3 (Conv2D)        (None, 56, 56, 256)       590080    \n",
            "_________________________________________________________________\n",
            "block3_pool (MaxPooling2D)   (None, 28, 28, 256)       0         \n",
            "_________________________________________________________________\n",
            "block4_conv1 (Conv2D)        (None, 28, 28, 512)       1180160   \n",
            "_________________________________________________________________\n",
            "block4_conv2 (Conv2D)        (None, 28, 28, 512)       2359808   \n",
            "_________________________________________________________________\n",
            "block4_conv3 (Conv2D)        (None, 28, 28, 512)       2359808   \n",
            "_________________________________________________________________\n",
            "block4_pool (MaxPooling2D)   (None, 14, 14, 512)       0         \n",
            "_________________________________________________________________\n",
            "block5_conv1 (Conv2D)        (None, 14, 14, 512)       2359808   \n",
            "_________________________________________________________________\n",
            "block5_conv2 (Conv2D)        (None, 14, 14, 512)       2359808   \n",
            "_________________________________________________________________\n",
            "block5_conv3 (Conv2D)        (None, 14, 14, 512)       2359808   \n",
            "_________________________________________________________________\n",
            "block5_pool (MaxPooling2D)   (None, 7, 7, 512)         0         \n",
            "=================================================================\n",
            "Total params: 14,714,688\n",
            "Trainable params: 14,714,688\n",
            "Non-trainable params: 0\n",
            "_________________________________________________________________\n"
          ],
          "name": "stdout"
        }
      ]
    },
    {
      "cell_type": "code",
      "metadata": {
        "id": "ypI3buUYZDI1"
      },
      "source": [
        "for layer in vgg16.layers:\n",
        "  layer.trainable=False"
      ],
      "execution_count": null,
      "outputs": []
    },
    {
      "cell_type": "code",
      "metadata": {
        "id": "_kMMC_URZRRI"
      },
      "source": [
        "z=Flatten()(vgg16.output)\n",
        "prediction_vgg16=Dense(len(folder),activation=\"softmax\")(z)\n",
        "model_vgg16=Model(inputs=vgg16.input,outputs=prediction_vgg16)"
      ],
      "execution_count": null,
      "outputs": []
    },
    {
      "cell_type": "code",
      "metadata": {
        "colab": {
          "base_uri": "https://localhost:8080/"
        },
        "id": "TYxbZOsbdC5l",
        "outputId": "28d4daf7-4070-46aa-f4d4-6a5c8133a349"
      },
      "source": [
        "model_vgg16.summary()"
      ],
      "execution_count": null,
      "outputs": [
        {
          "output_type": "stream",
          "text": [
            "Model: \"model_1\"\n",
            "_________________________________________________________________\n",
            "Layer (type)                 Output Shape              Param #   \n",
            "=================================================================\n",
            "input_2 (InputLayer)         [(None, 224, 224, 3)]     0         \n",
            "_________________________________________________________________\n",
            "block1_conv1 (Conv2D)        (None, 224, 224, 64)      1792      \n",
            "_________________________________________________________________\n",
            "block1_conv2 (Conv2D)        (None, 224, 224, 64)      36928     \n",
            "_________________________________________________________________\n",
            "block1_pool (MaxPooling2D)   (None, 112, 112, 64)      0         \n",
            "_________________________________________________________________\n",
            "block2_conv1 (Conv2D)        (None, 112, 112, 128)     73856     \n",
            "_________________________________________________________________\n",
            "block2_conv2 (Conv2D)        (None, 112, 112, 128)     147584    \n",
            "_________________________________________________________________\n",
            "block2_pool (MaxPooling2D)   (None, 56, 56, 128)       0         \n",
            "_________________________________________________________________\n",
            "block3_conv1 (Conv2D)        (None, 56, 56, 256)       295168    \n",
            "_________________________________________________________________\n",
            "block3_conv2 (Conv2D)        (None, 56, 56, 256)       590080    \n",
            "_________________________________________________________________\n",
            "block3_conv3 (Conv2D)        (None, 56, 56, 256)       590080    \n",
            "_________________________________________________________________\n",
            "block3_pool (MaxPooling2D)   (None, 28, 28, 256)       0         \n",
            "_________________________________________________________________\n",
            "block4_conv1 (Conv2D)        (None, 28, 28, 512)       1180160   \n",
            "_________________________________________________________________\n",
            "block4_conv2 (Conv2D)        (None, 28, 28, 512)       2359808   \n",
            "_________________________________________________________________\n",
            "block4_conv3 (Conv2D)        (None, 28, 28, 512)       2359808   \n",
            "_________________________________________________________________\n",
            "block4_pool (MaxPooling2D)   (None, 14, 14, 512)       0         \n",
            "_________________________________________________________________\n",
            "block5_conv1 (Conv2D)        (None, 14, 14, 512)       2359808   \n",
            "_________________________________________________________________\n",
            "block5_conv2 (Conv2D)        (None, 14, 14, 512)       2359808   \n",
            "_________________________________________________________________\n",
            "block5_conv3 (Conv2D)        (None, 14, 14, 512)       2359808   \n",
            "_________________________________________________________________\n",
            "block5_pool (MaxPooling2D)   (None, 7, 7, 512)         0         \n",
            "_________________________________________________________________\n",
            "flatten_1 (Flatten)          (None, 25088)             0         \n",
            "_________________________________________________________________\n",
            "dense_1 (Dense)              (None, 2)                 50178     \n",
            "=================================================================\n",
            "Total params: 14,764,866\n",
            "Trainable params: 50,178\n",
            "Non-trainable params: 14,714,688\n",
            "_________________________________________________________________\n"
          ],
          "name": "stdout"
        }
      ]
    },
    {
      "cell_type": "code",
      "metadata": {
        "id": "YQttsQ2NZzdY"
      },
      "source": [
        "model_vgg16.compile(optimizer=\"adam\",loss=\"categorical_crossentropy\",metrics=[\"accuracy\"])"
      ],
      "execution_count": null,
      "outputs": []
    },
    {
      "cell_type": "code",
      "metadata": {
        "colab": {
          "base_uri": "https://localhost:8080/"
        },
        "id": "sz8Y92I1cGF2",
        "outputId": "a05242e1-a627-44a7-9432-14551d24f71a"
      },
      "source": [
        "transfer_vgg16=model_vgg16.fit(training_set,validation_data=test_set,epochs=50,\n",
        "                               steps_per_epoch=len(training_set),validation_steps=len(test_set))"
      ],
      "execution_count": null,
      "outputs": [
        {
          "output_type": "stream",
          "text": [
            "Epoch 1/50\n",
            "13/13 [==============================] - 8s 582ms/step - loss: 1.3945 - accuracy: 0.5237 - val_loss: 0.7567 - val_accuracy: 0.6791\n",
            "Epoch 2/50\n",
            "13/13 [==============================] - 7s 544ms/step - loss: 0.5606 - accuracy: 0.7168 - val_loss: 0.6198 - val_accuracy: 0.6866\n",
            "Epoch 3/50\n",
            "13/13 [==============================] - 7s 546ms/step - loss: 0.3340 - accuracy: 0.8592 - val_loss: 0.4059 - val_accuracy: 0.7910\n",
            "Epoch 4/50\n",
            "13/13 [==============================] - 7s 536ms/step - loss: 0.2502 - accuracy: 0.9312 - val_loss: 0.4327 - val_accuracy: 0.8060\n",
            "Epoch 5/50\n",
            "13/13 [==============================] - 7s 550ms/step - loss: 0.2343 - accuracy: 0.9282 - val_loss: 0.3414 - val_accuracy: 0.8284\n",
            "Epoch 6/50\n",
            "13/13 [==============================] - 7s 557ms/step - loss: 0.1974 - accuracy: 0.9438 - val_loss: 0.3503 - val_accuracy: 0.8358\n",
            "Epoch 7/50\n",
            "13/13 [==============================] - 7s 536ms/step - loss: 0.1587 - accuracy: 0.9709 - val_loss: 0.3162 - val_accuracy: 0.8582\n",
            "Epoch 8/50\n",
            "13/13 [==============================] - 7s 540ms/step - loss: 0.1865 - accuracy: 0.9584 - val_loss: 0.2944 - val_accuracy: 0.8657\n",
            "Epoch 9/50\n",
            "13/13 [==============================] - 7s 534ms/step - loss: 0.1440 - accuracy: 0.9530 - val_loss: 0.3204 - val_accuracy: 0.8433\n",
            "Epoch 10/50\n",
            "13/13 [==============================] - 7s 546ms/step - loss: 0.1407 - accuracy: 0.9642 - val_loss: 0.2495 - val_accuracy: 0.9179\n",
            "Epoch 11/50\n",
            "13/13 [==============================] - 7s 553ms/step - loss: 0.1146 - accuracy: 0.9785 - val_loss: 0.2452 - val_accuracy: 0.9030\n",
            "Epoch 12/50\n",
            "13/13 [==============================] - 7s 545ms/step - loss: 0.1030 - accuracy: 0.9834 - val_loss: 0.3237 - val_accuracy: 0.8358\n",
            "Epoch 13/50\n",
            "13/13 [==============================] - 7s 531ms/step - loss: 0.1069 - accuracy: 0.9695 - val_loss: 0.3125 - val_accuracy: 0.8507\n",
            "Epoch 14/50\n",
            "13/13 [==============================] - 7s 535ms/step - loss: 0.0866 - accuracy: 0.9873 - val_loss: 0.2411 - val_accuracy: 0.8955\n",
            "Epoch 15/50\n",
            "13/13 [==============================] - 7s 544ms/step - loss: 0.1039 - accuracy: 0.9681 - val_loss: 0.2883 - val_accuracy: 0.8582\n",
            "Epoch 16/50\n",
            "13/13 [==============================] - 7s 537ms/step - loss: 0.0740 - accuracy: 0.9845 - val_loss: 0.2363 - val_accuracy: 0.8955\n",
            "Epoch 17/50\n",
            "13/13 [==============================] - 7s 532ms/step - loss: 0.0858 - accuracy: 0.9851 - val_loss: 0.2198 - val_accuracy: 0.8955\n",
            "Epoch 18/50\n",
            "13/13 [==============================] - 7s 539ms/step - loss: 0.0605 - accuracy: 0.9883 - val_loss: 0.1997 - val_accuracy: 0.9254\n",
            "Epoch 19/50\n",
            "13/13 [==============================] - 7s 540ms/step - loss: 0.0615 - accuracy: 0.9946 - val_loss: 0.2215 - val_accuracy: 0.8955\n",
            "Epoch 20/50\n",
            "13/13 [==============================] - 7s 553ms/step - loss: 0.0568 - accuracy: 0.9965 - val_loss: 0.1872 - val_accuracy: 0.9403\n",
            "Epoch 21/50\n",
            "13/13 [==============================] - 7s 541ms/step - loss: 0.0586 - accuracy: 0.9922 - val_loss: 0.1843 - val_accuracy: 0.9403\n",
            "Epoch 22/50\n",
            "13/13 [==============================] - 7s 538ms/step - loss: 0.0646 - accuracy: 0.9971 - val_loss: 0.1892 - val_accuracy: 0.9328\n",
            "Epoch 23/50\n",
            "13/13 [==============================] - 7s 542ms/step - loss: 0.0523 - accuracy: 0.9946 - val_loss: 0.1830 - val_accuracy: 0.9254\n",
            "Epoch 24/50\n",
            "13/13 [==============================] - 7s 552ms/step - loss: 0.0488 - accuracy: 0.9927 - val_loss: 0.2158 - val_accuracy: 0.9030\n",
            "Epoch 25/50\n",
            "13/13 [==============================] - 7s 538ms/step - loss: 0.0384 - accuracy: 0.9985 - val_loss: 0.1826 - val_accuracy: 0.9403\n",
            "Epoch 26/50\n",
            "13/13 [==============================] - 7s 535ms/step - loss: 0.0566 - accuracy: 0.9963 - val_loss: 0.1819 - val_accuracy: 0.9328\n",
            "Epoch 27/50\n",
            "13/13 [==============================] - 7s 533ms/step - loss: 0.0411 - accuracy: 0.9993 - val_loss: 0.2046 - val_accuracy: 0.9254\n",
            "Epoch 28/50\n",
            "13/13 [==============================] - 7s 546ms/step - loss: 0.0379 - accuracy: 1.0000 - val_loss: 0.3069 - val_accuracy: 0.8582\n",
            "Epoch 29/50\n",
            "13/13 [==============================] - 7s 558ms/step - loss: 0.0463 - accuracy: 0.9955 - val_loss: 0.3194 - val_accuracy: 0.8507\n",
            "Epoch 30/50\n",
            "13/13 [==============================] - 7s 537ms/step - loss: 0.0439 - accuracy: 0.9982 - val_loss: 0.1768 - val_accuracy: 0.9403\n",
            "Epoch 31/50\n",
            "13/13 [==============================] - 7s 542ms/step - loss: 0.0476 - accuracy: 0.9952 - val_loss: 0.1552 - val_accuracy: 0.9403\n",
            "Epoch 32/50\n",
            "13/13 [==============================] - 7s 542ms/step - loss: 0.0361 - accuracy: 1.0000 - val_loss: 0.1869 - val_accuracy: 0.9104\n",
            "Epoch 33/50\n",
            "13/13 [==============================] - 7s 545ms/step - loss: 0.0315 - accuracy: 0.9997 - val_loss: 0.2325 - val_accuracy: 0.8881\n",
            "Epoch 34/50\n",
            "13/13 [==============================] - 7s 546ms/step - loss: 0.0320 - accuracy: 1.0000 - val_loss: 0.3087 - val_accuracy: 0.8582\n",
            "Epoch 35/50\n",
            "13/13 [==============================] - 7s 544ms/step - loss: 0.0414 - accuracy: 0.9827 - val_loss: 0.2386 - val_accuracy: 0.8806\n",
            "Epoch 36/50\n",
            "13/13 [==============================] - 7s 542ms/step - loss: 0.0341 - accuracy: 1.0000 - val_loss: 0.1759 - val_accuracy: 0.9254\n",
            "Epoch 37/50\n",
            "13/13 [==============================] - 7s 552ms/step - loss: 0.0259 - accuracy: 1.0000 - val_loss: 0.1602 - val_accuracy: 0.9403\n",
            "Epoch 38/50\n",
            "13/13 [==============================] - 7s 556ms/step - loss: 0.0251 - accuracy: 1.0000 - val_loss: 0.2748 - val_accuracy: 0.8657\n",
            "Epoch 39/50\n",
            "13/13 [==============================] - 7s 554ms/step - loss: 0.0375 - accuracy: 0.9855 - val_loss: 0.2292 - val_accuracy: 0.8955\n",
            "Epoch 40/50\n",
            "13/13 [==============================] - 7s 542ms/step - loss: 0.0310 - accuracy: 0.9993 - val_loss: 0.1474 - val_accuracy: 0.9478\n",
            "Epoch 41/50\n",
            "13/13 [==============================] - 7s 555ms/step - loss: 0.0215 - accuracy: 0.9993 - val_loss: 0.1380 - val_accuracy: 0.9328\n",
            "Epoch 42/50\n",
            "13/13 [==============================] - 7s 550ms/step - loss: 0.0268 - accuracy: 1.0000 - val_loss: 0.1389 - val_accuracy: 0.9403\n",
            "Epoch 43/50\n",
            "13/13 [==============================] - 7s 554ms/step - loss: 0.0209 - accuracy: 1.0000 - val_loss: 0.1621 - val_accuracy: 0.9328\n",
            "Epoch 44/50\n",
            "13/13 [==============================] - 7s 545ms/step - loss: 0.0189 - accuracy: 1.0000 - val_loss: 0.1533 - val_accuracy: 0.9328\n",
            "Epoch 45/50\n",
            "13/13 [==============================] - 7s 549ms/step - loss: 0.0203 - accuracy: 1.0000 - val_loss: 0.1708 - val_accuracy: 0.9328\n",
            "Epoch 46/50\n",
            "13/13 [==============================] - 7s 546ms/step - loss: 0.0191 - accuracy: 1.0000 - val_loss: 0.1932 - val_accuracy: 0.9254\n",
            "Epoch 47/50\n",
            "13/13 [==============================] - 7s 557ms/step - loss: 0.0217 - accuracy: 1.0000 - val_loss: 0.1677 - val_accuracy: 0.9328\n",
            "Epoch 48/50\n",
            "13/13 [==============================] - 7s 553ms/step - loss: 0.0194 - accuracy: 1.0000 - val_loss: 0.2254 - val_accuracy: 0.8955\n",
            "Epoch 49/50\n",
            "13/13 [==============================] - 7s 543ms/step - loss: 0.0176 - accuracy: 1.0000 - val_loss: 0.2253 - val_accuracy: 0.8955\n",
            "Epoch 50/50\n",
            "13/13 [==============================] - 7s 544ms/step - loss: 0.0212 - accuracy: 1.0000 - val_loss: 0.1540 - val_accuracy: 0.9328\n"
          ],
          "name": "stdout"
        }
      ]
    },
    {
      "cell_type": "code",
      "metadata": {
        "colab": {
          "base_uri": "https://localhost:8080/",
          "height": 530
        },
        "id": "WvPYDcbacs07",
        "outputId": "45091074-926f-4dcd-f556-a6cdb1dbcd47"
      },
      "source": [
        "# plot the loss\n",
        "plt.plot(transfer_vgg16.history['loss'], label='train loss')\n",
        "plt.plot(transfer_vgg16.history['val_loss'], label='val loss')\n",
        "plt.legend()\n",
        "plt.show()\n",
        "plt.savefig('LossVal_loss')\n",
        "\n",
        "# plot the accuracy\n",
        "plt.plot(transfer_vgg16.history['accuracy'], label='train acc')\n",
        "plt.plot(transfer_vgg16.history['val_accuracy'], label='val acc')\n",
        "plt.legend()\n",
        "plt.show()\n",
        "plt.savefig('AccVal_acc')"
      ],
      "execution_count": null,
      "outputs": [
        {
          "output_type": "display_data",
          "data": {
            "image/png": "[encoded data removed]",
            "text/plain": [
              "<Figure size 432x288 with 1 Axes>"
            ]
          },
          "metadata": {
            "tags": [],
            "needs_background": "light"
          }
        },
        {
          "output_type": "display_data",
          "data": {
            "image/png": "[encoded data removed]",
            "text/plain": [
              "<Figure size 432x288 with 1 Axes>"
            ]
          },
          "metadata": {
            "tags": [],
            "needs_background": "light"
          }
        },
        {
          "output_type": "display_data",
          "data": {
            "text/plain": [
              "<Figure size 432x288 with 0 Axes>"
            ]
          },
          "metadata": {
            "tags": []
          }
        }
      ]
    },
    {
      "cell_type": "code",
      "metadata": {
        "id": "_PXpCfmHgRXA"
      },
      "source": [
        "from tensorflow.keras.models import load_model\n",
        "#model_vgg16.save(\"model_vgg16.h5\")\n",
        "model.save(\"model_vgg19.h5\")"
      ],
      "execution_count": 18,
      "outputs": []
    },
    {
      "cell_type": "code",
      "metadata": {
        "id": "4Jc-DgyysTWe"
      },
      "source": [
        "y_pred_vgg19=model.predict(test_set)"
      ],
      "execution_count": 19,
      "outputs": []
    },
    {
      "cell_type": "code",
      "metadata": {
        "colab": {
          "base_uri": "https://localhost:8080/"
        },
        "id": "aRpCKgYNs351",
        "outputId": "18603cac-472b-45df-912a-b6cfd95c5d1b"
      },
      "source": [
        "y_pred_vgg19 ## this the probabilities of the 2 class , first column is parasite and 2nd one is non infected "
      ],
      "execution_count": 21,
      "outputs": [
        {
          "output_type": "execute_result",
          "data": {
            "text/plain": [
              "array([[9.87392485e-01, 1.26074729e-02],\n",
              "       [9.99804080e-01, 1.95999426e-04],\n",
              "       [4.64004964e-01, 5.35995007e-01],\n",
              "       [9.97315228e-01, 2.68473406e-03],\n",
              "       [1.17085218e-01, 8.82914782e-01],\n",
              "       [3.47908646e-01, 6.52091384e-01],\n",
              "       [9.99552667e-01, 4.47275524e-04],\n",
              "       [9.57812250e-01, 4.21877131e-02],\n",
              "       [9.71451163e-01, 2.85488740e-02],\n",
              "       [9.98707891e-01, 1.29215640e-03],\n",
              "       [8.03701803e-02, 9.19629872e-01],\n",
              "       [6.84150532e-02, 9.31585014e-01],\n",
              "       [9.73622382e-01, 2.63776146e-02],\n",
              "       [9.16219205e-02, 9.08378065e-01],\n",
              "       [8.46919641e-02, 9.15308058e-01],\n",
              "       [9.98309493e-01, 1.69048272e-03],\n",
              "       [9.99986291e-01, 1.36729286e-05],\n",
              "       [6.32418394e-01, 3.67581606e-01],\n",
              "       [8.85564208e-01, 1.14435770e-01],\n",
              "       [2.77455281e-02, 9.72254515e-01],\n",
              "       [9.79809523e-01, 2.01904103e-02],\n",
              "       [7.92514503e-01, 2.07485557e-01],\n",
              "       [2.59959400e-02, 9.74004030e-01],\n",
              "       [1.07664168e-01, 8.92335832e-01],\n",
              "       [6.26125693e-01, 3.73874307e-01],\n",
              "       [9.34193075e-01, 6.58069476e-02],\n",
              "       [9.99765933e-01, 2.34099905e-04],\n",
              "       [1.03037134e-01, 8.96962821e-01],\n",
              "       [2.20132396e-02, 9.77986753e-01],\n",
              "       [4.11049165e-02, 9.58895087e-01],\n",
              "       [2.01635778e-01, 7.98364282e-01],\n",
              "       [4.16523404e-02, 9.58347678e-01],\n",
              "       [2.98332661e-01, 7.01667368e-01],\n",
              "       [8.72699976e-01, 1.27299979e-01],\n",
              "       [4.52840142e-03, 9.95471597e-01],\n",
              "       [9.75638628e-01, 2.43614409e-02],\n",
              "       [9.92397249e-01, 7.60277500e-03],\n",
              "       [9.94130909e-01, 5.86911803e-03],\n",
              "       [9.97456849e-01, 2.54311552e-03],\n",
              "       [8.84747148e-01, 1.15252875e-01],\n",
              "       [1.75525919e-01, 8.24474037e-01],\n",
              "       [7.24422157e-01, 2.75577843e-01],\n",
              "       [3.74795236e-02, 9.62520421e-01],\n",
              "       [5.08125313e-02, 9.49187398e-01],\n",
              "       [7.76016116e-02, 9.22398388e-01],\n",
              "       [6.40071332e-01, 3.59928668e-01],\n",
              "       [1.63637370e-01, 8.36362660e-01],\n",
              "       [6.01768017e-01, 3.98231953e-01],\n",
              "       [5.26780784e-01, 4.73219246e-01],\n",
              "       [4.40831006e-01, 5.59168994e-01],\n",
              "       [9.97700989e-01, 2.29897909e-03],\n",
              "       [9.94041026e-01, 5.95896412e-03],\n",
              "       [7.52905071e-01, 2.47094870e-01],\n",
              "       [7.31527805e-01, 2.68472195e-01],\n",
              "       [4.22422290e-01, 5.77577710e-01],\n",
              "       [6.46543130e-02, 9.35345709e-01],\n",
              "       [4.29144241e-02, 9.57085550e-01],\n",
              "       [1.02738291e-01, 8.97261679e-01],\n",
              "       [5.15363477e-02, 9.48463619e-01],\n",
              "       [7.18801260e-01, 2.81198740e-01],\n",
              "       [9.68443036e-01, 3.15569974e-02],\n",
              "       [6.93498477e-02, 9.30650175e-01],\n",
              "       [7.30229139e-01, 2.69770890e-01],\n",
              "       [1.40900597e-01, 8.59099388e-01],\n",
              "       [7.75040686e-01, 2.24959254e-01],\n",
              "       [7.89552808e-01, 2.10447147e-01],\n",
              "       [9.73039329e-01, 2.69607157e-02],\n",
              "       [9.99965668e-01, 3.42752901e-05],\n",
              "       [2.40769267e-01, 7.59230733e-01],\n",
              "       [7.36990392e-01, 2.63009608e-01],\n",
              "       [9.81839299e-01, 1.81607530e-02],\n",
              "       [9.99995708e-01, 4.34085450e-06],\n",
              "       [1.68939456e-02, 9.83106077e-01],\n",
              "       [9.43966269e-01, 5.60337752e-02],\n",
              "       [8.51647019e-01, 1.48352966e-01],\n",
              "       [9.99511838e-01, 4.88116202e-04],\n",
              "       [1.68183688e-02, 9.83181655e-01],\n",
              "       [6.65777624e-01, 3.34222317e-01],\n",
              "       [9.95747745e-01, 4.25224798e-03],\n",
              "       [1.03546456e-01, 8.96453559e-01],\n",
              "       [1.31802201e-01, 8.68197799e-01],\n",
              "       [1.90774366e-01, 8.09225678e-01],\n",
              "       [5.15229069e-02, 9.48477030e-01],\n",
              "       [4.08006720e-02, 9.59199369e-01],\n",
              "       [9.93388295e-01, 6.61164895e-03],\n",
              "       [1.01225287e-01, 8.98774743e-01],\n",
              "       [2.02009514e-01, 7.97990441e-01],\n",
              "       [6.75000191e-01, 3.24999839e-01],\n",
              "       [3.46417837e-02, 9.65358257e-01],\n",
              "       [4.04090405e-01, 5.95909536e-01],\n",
              "       [8.46251428e-01, 1.53748542e-01],\n",
              "       [8.61930549e-01, 1.38069451e-01],\n",
              "       [1.14509754e-01, 8.85490298e-01],\n",
              "       [9.99440610e-01, 5.59369335e-04],\n",
              "       [2.68160608e-02, 9.73183930e-01],\n",
              "       [9.65437233e-01, 3.45626995e-02],\n",
              "       [9.79477048e-01, 2.05229670e-02],\n",
              "       [9.20065120e-02, 9.07993495e-01],\n",
              "       [5.34258038e-02, 9.46574211e-01],\n",
              "       [4.06172782e-01, 5.93827188e-01],\n",
              "       [9.93329048e-01, 6.67102262e-03],\n",
              "       [4.38557833e-01, 5.61442196e-01],\n",
              "       [3.30384493e-01, 6.69615507e-01],\n",
              "       [5.13582349e-01, 4.86417651e-01],\n",
              "       [7.11773112e-02, 9.28822637e-01],\n",
              "       [1.51121289e-01, 8.48878741e-01],\n",
              "       [9.96106446e-01, 3.89357260e-03],\n",
              "       [4.43802416e-01, 5.56197584e-01],\n",
              "       [9.74227414e-02, 9.02577221e-01],\n",
              "       [9.99534011e-01, 4.66022204e-04],\n",
              "       [9.79881644e-01, 2.01183595e-02],\n",
              "       [9.88330722e-01, 1.16692996e-02],\n",
              "       [1.68361455e-01, 8.31638515e-01],\n",
              "       [8.90730321e-01, 1.09269686e-01],\n",
              "       [1.02261752e-01, 8.97738218e-01],\n",
              "       [5.51362872e-01, 4.48637098e-01],\n",
              "       [9.27346408e-01, 7.26535544e-02],\n",
              "       [3.12662661e-01, 6.87337339e-01],\n",
              "       [5.15027404e-01, 4.84972537e-01],\n",
              "       [9.62067246e-02, 9.03793275e-01],\n",
              "       [6.57598078e-01, 3.42401862e-01],\n",
              "       [8.71530831e-01, 1.28469229e-01],\n",
              "       [9.08030689e-01, 9.19693708e-02],\n",
              "       [1.57409772e-01, 8.42590272e-01],\n",
              "       [9.99467075e-01, 5.32910519e-04],\n",
              "       [9.98641789e-01, 1.35822373e-03],\n",
              "       [5.96130133e-01, 4.03869867e-01],\n",
              "       [4.97606844e-02, 9.50239301e-01],\n",
              "       [9.91456568e-01, 8.54346715e-03],\n",
              "       [2.32291937e-01, 7.67708063e-01],\n",
              "       [9.10803005e-02, 9.08919692e-01],\n",
              "       [4.04313713e-01, 5.95686316e-01],\n",
              "       [9.92239714e-01, 7.76027935e-03],\n",
              "       [7.32513547e-01, 2.67486453e-01]], dtype=float32)"
            ]
          },
          "metadata": {
            "tags": []
          },
          "execution_count": 21
        }
      ]
    },
    {
      "cell_type": "code",
      "metadata": {
        "id": "uKWuDb5xs57D"
      },
      "source": [
        "import numpy as np\n",
        "y_pred_vgg19=np.argmax(y_pred_vgg19,axis=1)"
      ],
      "execution_count": 22,
      "outputs": []
    },
    {
      "cell_type": "code",
      "metadata": {
        "colab": {
          "base_uri": "https://localhost:8080/"
        },
        "id": "T_Ri9nInuEH5",
        "outputId": "2024bbbb-a831-43b7-8eda-9b36fb96d563"
      },
      "source": [
        "y_pred_vgg19"
      ],
      "execution_count": 23,
      "outputs": [
        {
          "output_type": "execute_result",
          "data": {
            "text/plain": [
              "array([0, 0, 1, 0, 1, 1, 0, 0, 0, 0, 1, 1, 0, 1, 1, 0, 0, 0, 0, 1, 0, 0,\n",
              "       1, 1, 0, 0, 0, 1, 1, 1, 1, 1, 1, 0, 1, 0, 0, 0, 0, 0, 1, 0, 1, 1,\n",
              "       1, 0, 1, 0, 0, 1, 0, 0, 0, 0, 1, 1, 1, 1, 1, 0, 0, 1, 0, 1, 0, 0,\n",
              "       0, 0, 1, 0, 0, 0, 1, 0, 0, 0, 1, 0, 0, 1, 1, 1, 1, 1, 0, 1, 1, 0,\n",
              "       1, 1, 0, 0, 1, 0, 1, 0, 0, 1, 1, 1, 0, 1, 1, 0, 1, 1, 0, 1, 1, 0,\n",
              "       0, 0, 1, 0, 1, 0, 0, 1, 0, 1, 0, 0, 0, 1, 0, 0, 0, 1, 0, 1, 1, 1,\n",
              "       0, 0])"
            ]
          },
          "metadata": {
            "tags": []
          },
          "execution_count": 23
        }
      ]
    },
    {
      "cell_type": "code",
      "metadata": {
        "id": "5O5ybdNk1lH3"
      },
      "source": [
        "## Next step is to read the image wheather it us infected or not \n",
        "\n",
        "from tensorflow.keras.preprocessing import image \n",
        "from tensorflow.keras.models import load_model"
      ],
      "execution_count": 24,
      "outputs": []
    },
    {
      "cell_type": "code",
      "metadata": {
        "id": "w8qsv0Tz3up5"
      },
      "source": [
        "model=load_model(\"model_vgg19.h5\")"
      ],
      "execution_count": 25,
      "outputs": []
    },
    {
      "cell_type": "code",
      "metadata": {
        "id": "LUix2I6-4P7m"
      },
      "source": [
        "img=image.load_img('/content/drive/MyDrive/Maleria_Dataset/Test/Uninfected/2.png',\n",
        "                   target_size=(224,224))"
      ],
      "execution_count": 26,
      "outputs": []
    },
    {
      "cell_type": "code",
      "metadata": {
        "colab": {
          "base_uri": "https://localhost:8080/"
        },
        "id": "w4buQpif5ZrE",
        "outputId": "1f824adb-fdea-4f90-9552-a253612055f5"
      },
      "source": [
        "x=image.img_to_array(img)\n",
        "x"
      ],
      "execution_count": 27,
      "outputs": [
        {
          "output_type": "execute_result",
          "data": {
            "text/plain": [
              "array([[[0., 0., 0.],\n",
              "        [0., 0., 0.],\n",
              "        [0., 0., 0.],\n",
              "        ...,\n",
              "        [0., 0., 0.],\n",
              "        [0., 0., 0.],\n",
              "        [0., 0., 0.]],\n",
              "\n",
              "       [[0., 0., 0.],\n",
              "        [0., 0., 0.],\n",
              "        [0., 0., 0.],\n",
              "        ...,\n",
              "        [0., 0., 0.],\n",
              "        [0., 0., 0.],\n",
              "        [0., 0., 0.]],\n",
              "\n",
              "       [[0., 0., 0.],\n",
              "        [0., 0., 0.],\n",
              "        [0., 0., 0.],\n",
              "        ...,\n",
              "        [0., 0., 0.],\n",
              "        [0., 0., 0.],\n",
              "        [0., 0., 0.]],\n",
              "\n",
              "       ...,\n",
              "\n",
              "       [[0., 0., 0.],\n",
              "        [0., 0., 0.],\n",
              "        [0., 0., 0.],\n",
              "        ...,\n",
              "        [0., 0., 0.],\n",
              "        [0., 0., 0.],\n",
              "        [0., 0., 0.]],\n",
              "\n",
              "       [[0., 0., 0.],\n",
              "        [0., 0., 0.],\n",
              "        [0., 0., 0.],\n",
              "        ...,\n",
              "        [0., 0., 0.],\n",
              "        [0., 0., 0.],\n",
              "        [0., 0., 0.]],\n",
              "\n",
              "       [[0., 0., 0.],\n",
              "        [0., 0., 0.],\n",
              "        [0., 0., 0.],\n",
              "        ...,\n",
              "        [0., 0., 0.],\n",
              "        [0., 0., 0.],\n",
              "        [0., 0., 0.]]], dtype=float32)"
            ]
          },
          "metadata": {
            "tags": []
          },
          "execution_count": 27
        }
      ]
    },
    {
      "cell_type": "code",
      "metadata": {
        "colab": {
          "base_uri": "https://localhost:8080/"
        },
        "id": "yq1UGMKv5c0g",
        "outputId": "666c31be-a96b-42e3-930b-da67c07bfb13"
      },
      "source": [
        "x.shape"
      ],
      "execution_count": 28,
      "outputs": [
        {
          "output_type": "execute_result",
          "data": {
            "text/plain": [
              "(224, 224, 3)"
            ]
          },
          "metadata": {
            "tags": []
          },
          "execution_count": 28
        }
      ]
    },
    {
      "cell_type": "code",
      "metadata": {
        "id": "W7xDzRUf5g5O"
      },
      "source": [
        "x=x/255"
      ],
      "execution_count": 29,
      "outputs": []
    },
    {
      "cell_type": "code",
      "metadata": {
        "colab": {
          "base_uri": "https://localhost:8080/"
        },
        "id": "AmW3KbZp5ksh",
        "outputId": "895d95ab-c402-4aad-8b65-61c16c4cc4d0"
      },
      "source": [
        "x=np.expand_dims(x,axis=0)\n",
        "img_data=preprocess_input(x)\n",
        "img_data.shape"
      ],
      "execution_count": 30,
      "outputs": [
        {
          "output_type": "execute_result",
          "data": {
            "text/plain": [
              "(1, 224, 224, 3)"
            ]
          },
          "metadata": {
            "tags": []
          },
          "execution_count": 30
        }
      ]
    },
    {
      "cell_type": "code",
      "metadata": {
        "colab": {
          "base_uri": "https://localhost:8080/"
        },
        "id": "FK_kAuI75ot5",
        "outputId": "1de18862-71d9-4a47-a28f-9095a98f30fb"
      },
      "source": [
        "model.predict(img_data)"
      ],
      "execution_count": 31,
      "outputs": [
        {
          "output_type": "execute_result",
          "data": {
            "text/plain": [
              "array([[8.245997e-06, 9.999918e-01]], dtype=float32)"
            ]
          },
          "metadata": {
            "tags": []
          },
          "execution_count": 31
        }
      ]
    },
    {
      "cell_type": "code",
      "metadata": {
        "colab": {
          "base_uri": "https://localhost:8080/"
        },
        "id": "He-WyXIy7elf",
        "outputId": "7daed15b-d5fc-4d72-8dd8-c8e48f231013"
      },
      "source": [
        "a=np.argmax(model.predict(img_data))\n",
        "a"
      ],
      "execution_count": 32,
      "outputs": [
        {
          "output_type": "execute_result",
          "data": {
            "text/plain": [
              "1"
            ]
          },
          "metadata": {
            "tags": []
          },
          "execution_count": 32
        }
      ]
    },
    {
      "cell_type": "code",
      "metadata": {
        "colab": {
          "base_uri": "https://localhost:8080/"
        },
        "id": "abfy8Exl7_A8",
        "outputId": "0117c45c-486a-4a8b-d663-5835f69f40f2"
      },
      "source": [
        "if(a==1):\n",
        "    print(\"Uninfected\")\n",
        "else:\n",
        "    print(\"Infected\")"
      ],
      "execution_count": 33,
      "outputs": [
        {
          "output_type": "stream",
          "text": [
            "Uninfected\n"
          ],
          "name": "stdout"
        }
      ]
    },
    {
      "cell_type": "code",
      "metadata": {
        "id": "skvHnRNr8Cdi"
      },
      "source": [
        ""
      ],
      "execution_count": null,
      "outputs": []
    }
  ]
}